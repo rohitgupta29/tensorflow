{
 "cells": [
  {
   "cell_type": "code",
   "execution_count": 57,
   "metadata": {},
   "outputs": [
    {
     "name": "stdout",
     "output_type": "stream",
     "text": [
      "2.0.0-rc0\n"
     ]
    }
   ],
   "source": [
    "import tensorflow as tf\n",
    "from tensorflow import keras\n",
    "from tensorflow.keras import Sequential\n",
    "from tensorflow.keras.layers import Flatten, Dense, Dropout, BatchNormalization\n",
    "from tensorflow.keras.layers import Conv1D, MaxPool1D\n",
    "from tensorflow.keras.optimizers import Adam\n",
    "\n",
    "print(tf.__version__)"
   ]
  },
  {
   "cell_type": "code",
   "execution_count": 25,
   "metadata": {},
   "outputs": [],
   "source": [
    "import pandas as pd\n",
    "import numpy as np\n",
    "import seaborn as sns \n",
    "import matplotlib.pyplot as plt\n",
    "from sklearn.model_selection import train_test_split\n",
    "from sklearn.preprocessing import StandardScaler"
   ]
  },
  {
   "cell_type": "code",
   "execution_count": null,
   "metadata": {},
   "outputs": [],
   "source": [
    "# data link = https://www.kaggle.com/mlg-ulb/creditcardfraud\n",
    "\n",
    "data = pd.read_csv(\"creditcard.csv\")"
   ]
  },
  {
   "cell_type": "code",
   "execution_count": 27,
   "metadata": {},
   "outputs": [
    {
     "data": {
      "text/plain": [
       "(284807, 31)"
      ]
     },
     "execution_count": 27,
     "metadata": {},
     "output_type": "execute_result"
    }
   ],
   "source": [
    "data.shape"
   ]
  },
  {
   "cell_type": "code",
   "execution_count": 28,
   "metadata": {},
   "outputs": [
    {
     "data": {
      "text/html": [
       "<div>\n",
       "<style scoped>\n",
       "    .dataframe tbody tr th:only-of-type {\n",
       "        vertical-align: middle;\n",
       "    }\n",
       "\n",
       "    .dataframe tbody tr th {\n",
       "        vertical-align: top;\n",
       "    }\n",
       "\n",
       "    .dataframe thead th {\n",
       "        text-align: right;\n",
       "    }\n",
       "</style>\n",
       "<table border=\"1\" class=\"dataframe\">\n",
       "  <thead>\n",
       "    <tr style=\"text-align: right;\">\n",
       "      <th></th>\n",
       "      <th>Time</th>\n",
       "      <th>V1</th>\n",
       "      <th>V2</th>\n",
       "      <th>V3</th>\n",
       "      <th>V4</th>\n",
       "      <th>V5</th>\n",
       "      <th>V6</th>\n",
       "      <th>V7</th>\n",
       "      <th>V8</th>\n",
       "      <th>V9</th>\n",
       "      <th>...</th>\n",
       "      <th>V21</th>\n",
       "      <th>V22</th>\n",
       "      <th>V23</th>\n",
       "      <th>V24</th>\n",
       "      <th>V25</th>\n",
       "      <th>V26</th>\n",
       "      <th>V27</th>\n",
       "      <th>V28</th>\n",
       "      <th>Amount</th>\n",
       "      <th>Class</th>\n",
       "    </tr>\n",
       "  </thead>\n",
       "  <tbody>\n",
       "    <tr>\n",
       "      <th>0</th>\n",
       "      <td>0.0</td>\n",
       "      <td>-1.359807</td>\n",
       "      <td>-0.072781</td>\n",
       "      <td>2.536347</td>\n",
       "      <td>1.378155</td>\n",
       "      <td>-0.338321</td>\n",
       "      <td>0.462388</td>\n",
       "      <td>0.239599</td>\n",
       "      <td>0.098698</td>\n",
       "      <td>0.363787</td>\n",
       "      <td>...</td>\n",
       "      <td>-0.018307</td>\n",
       "      <td>0.277838</td>\n",
       "      <td>-0.110474</td>\n",
       "      <td>0.066928</td>\n",
       "      <td>0.128539</td>\n",
       "      <td>-0.189115</td>\n",
       "      <td>0.133558</td>\n",
       "      <td>-0.021053</td>\n",
       "      <td>149.62</td>\n",
       "      <td>0</td>\n",
       "    </tr>\n",
       "    <tr>\n",
       "      <th>1</th>\n",
       "      <td>0.0</td>\n",
       "      <td>1.191857</td>\n",
       "      <td>0.266151</td>\n",
       "      <td>0.166480</td>\n",
       "      <td>0.448154</td>\n",
       "      <td>0.060018</td>\n",
       "      <td>-0.082361</td>\n",
       "      <td>-0.078803</td>\n",
       "      <td>0.085102</td>\n",
       "      <td>-0.255425</td>\n",
       "      <td>...</td>\n",
       "      <td>-0.225775</td>\n",
       "      <td>-0.638672</td>\n",
       "      <td>0.101288</td>\n",
       "      <td>-0.339846</td>\n",
       "      <td>0.167170</td>\n",
       "      <td>0.125895</td>\n",
       "      <td>-0.008983</td>\n",
       "      <td>0.014724</td>\n",
       "      <td>2.69</td>\n",
       "      <td>0</td>\n",
       "    </tr>\n",
       "    <tr>\n",
       "      <th>2</th>\n",
       "      <td>1.0</td>\n",
       "      <td>-1.358354</td>\n",
       "      <td>-1.340163</td>\n",
       "      <td>1.773209</td>\n",
       "      <td>0.379780</td>\n",
       "      <td>-0.503198</td>\n",
       "      <td>1.800499</td>\n",
       "      <td>0.791461</td>\n",
       "      <td>0.247676</td>\n",
       "      <td>-1.514654</td>\n",
       "      <td>...</td>\n",
       "      <td>0.247998</td>\n",
       "      <td>0.771679</td>\n",
       "      <td>0.909412</td>\n",
       "      <td>-0.689281</td>\n",
       "      <td>-0.327642</td>\n",
       "      <td>-0.139097</td>\n",
       "      <td>-0.055353</td>\n",
       "      <td>-0.059752</td>\n",
       "      <td>378.66</td>\n",
       "      <td>0</td>\n",
       "    </tr>\n",
       "    <tr>\n",
       "      <th>3</th>\n",
       "      <td>1.0</td>\n",
       "      <td>-0.966272</td>\n",
       "      <td>-0.185226</td>\n",
       "      <td>1.792993</td>\n",
       "      <td>-0.863291</td>\n",
       "      <td>-0.010309</td>\n",
       "      <td>1.247203</td>\n",
       "      <td>0.237609</td>\n",
       "      <td>0.377436</td>\n",
       "      <td>-1.387024</td>\n",
       "      <td>...</td>\n",
       "      <td>-0.108300</td>\n",
       "      <td>0.005274</td>\n",
       "      <td>-0.190321</td>\n",
       "      <td>-1.175575</td>\n",
       "      <td>0.647376</td>\n",
       "      <td>-0.221929</td>\n",
       "      <td>0.062723</td>\n",
       "      <td>0.061458</td>\n",
       "      <td>123.50</td>\n",
       "      <td>0</td>\n",
       "    </tr>\n",
       "    <tr>\n",
       "      <th>4</th>\n",
       "      <td>2.0</td>\n",
       "      <td>-1.158233</td>\n",
       "      <td>0.877737</td>\n",
       "      <td>1.548718</td>\n",
       "      <td>0.403034</td>\n",
       "      <td>-0.407193</td>\n",
       "      <td>0.095921</td>\n",
       "      <td>0.592941</td>\n",
       "      <td>-0.270533</td>\n",
       "      <td>0.817739</td>\n",
       "      <td>...</td>\n",
       "      <td>-0.009431</td>\n",
       "      <td>0.798278</td>\n",
       "      <td>-0.137458</td>\n",
       "      <td>0.141267</td>\n",
       "      <td>-0.206010</td>\n",
       "      <td>0.502292</td>\n",
       "      <td>0.219422</td>\n",
       "      <td>0.215153</td>\n",
       "      <td>69.99</td>\n",
       "      <td>0</td>\n",
       "    </tr>\n",
       "  </tbody>\n",
       "</table>\n",
       "<p>5 rows × 31 columns</p>\n",
       "</div>"
      ],
      "text/plain": [
       "   Time        V1        V2        V3        V4        V5        V6        V7  \\\n",
       "0   0.0 -1.359807 -0.072781  2.536347  1.378155 -0.338321  0.462388  0.239599   \n",
       "1   0.0  1.191857  0.266151  0.166480  0.448154  0.060018 -0.082361 -0.078803   \n",
       "2   1.0 -1.358354 -1.340163  1.773209  0.379780 -0.503198  1.800499  0.791461   \n",
       "3   1.0 -0.966272 -0.185226  1.792993 -0.863291 -0.010309  1.247203  0.237609   \n",
       "4   2.0 -1.158233  0.877737  1.548718  0.403034 -0.407193  0.095921  0.592941   \n",
       "\n",
       "         V8        V9  ...       V21       V22       V23       V24       V25  \\\n",
       "0  0.098698  0.363787  ... -0.018307  0.277838 -0.110474  0.066928  0.128539   \n",
       "1  0.085102 -0.255425  ... -0.225775 -0.638672  0.101288 -0.339846  0.167170   \n",
       "2  0.247676 -1.514654  ...  0.247998  0.771679  0.909412 -0.689281 -0.327642   \n",
       "3  0.377436 -1.387024  ... -0.108300  0.005274 -0.190321 -1.175575  0.647376   \n",
       "4 -0.270533  0.817739  ... -0.009431  0.798278 -0.137458  0.141267 -0.206010   \n",
       "\n",
       "        V26       V27       V28  Amount  Class  \n",
       "0 -0.189115  0.133558 -0.021053  149.62      0  \n",
       "1  0.125895 -0.008983  0.014724    2.69      0  \n",
       "2 -0.139097 -0.055353 -0.059752  378.66      0  \n",
       "3 -0.221929  0.062723  0.061458  123.50      0  \n",
       "4  0.502292  0.219422  0.215153   69.99      0  \n",
       "\n",
       "[5 rows x 31 columns]"
      ]
     },
     "execution_count": 28,
     "metadata": {},
     "output_type": "execute_result"
    }
   ],
   "source": [
    "data.head()"
   ]
  },
  {
   "cell_type": "code",
   "execution_count": 29,
   "metadata": {},
   "outputs": [
    {
     "name": "stdout",
     "output_type": "stream",
     "text": [
      "<class 'pandas.core.frame.DataFrame'>\n",
      "RangeIndex: 284807 entries, 0 to 284806\n",
      "Data columns (total 31 columns):\n",
      " #   Column  Non-Null Count   Dtype  \n",
      "---  ------  --------------   -----  \n",
      " 0   Time    284807 non-null  float64\n",
      " 1   V1      284807 non-null  float64\n",
      " 2   V2      284807 non-null  float64\n",
      " 3   V3      284807 non-null  float64\n",
      " 4   V4      284807 non-null  float64\n",
      " 5   V5      284807 non-null  float64\n",
      " 6   V6      284807 non-null  float64\n",
      " 7   V7      284807 non-null  float64\n",
      " 8   V8      284807 non-null  float64\n",
      " 9   V9      284807 non-null  float64\n",
      " 10  V10     284807 non-null  float64\n",
      " 11  V11     284807 non-null  float64\n",
      " 12  V12     284807 non-null  float64\n",
      " 13  V13     284807 non-null  float64\n",
      " 14  V14     284807 non-null  float64\n",
      " 15  V15     284807 non-null  float64\n",
      " 16  V16     284807 non-null  float64\n",
      " 17  V17     284807 non-null  float64\n",
      " 18  V18     284807 non-null  float64\n",
      " 19  V19     284807 non-null  float64\n",
      " 20  V20     284807 non-null  float64\n",
      " 21  V21     284807 non-null  float64\n",
      " 22  V22     284807 non-null  float64\n",
      " 23  V23     284807 non-null  float64\n",
      " 24  V24     284807 non-null  float64\n",
      " 25  V25     284807 non-null  float64\n",
      " 26  V26     284807 non-null  float64\n",
      " 27  V27     284807 non-null  float64\n",
      " 28  V28     284807 non-null  float64\n",
      " 29  Amount  284807 non-null  float64\n",
      " 30  Class   284807 non-null  int64  \n",
      "dtypes: float64(30), int64(1)\n",
      "memory usage: 67.4 MB\n"
     ]
    }
   ],
   "source": [
    "data.info()"
   ]
  },
  {
   "cell_type": "code",
   "execution_count": 30,
   "metadata": {},
   "outputs": [
    {
     "data": {
      "text/plain": [
       "0    284315\n",
       "1       492\n",
       "Name: Class, dtype: int64"
      ]
     },
     "execution_count": 30,
     "metadata": {},
     "output_type": "execute_result"
    }
   ],
   "source": [
    "data['Class'].value_counts()\n",
    "#This is highly imbalanced dataset"
   ]
  },
  {
   "cell_type": "markdown",
   "metadata": {},
   "source": [
    "### Balance Dataset"
   ]
  },
  {
   "cell_type": "code",
   "execution_count": 31,
   "metadata": {},
   "outputs": [],
   "source": [
    "non_fraud = data[data['Class'] == 0]\n",
    "fraud = data[data['Class'] == 1]"
   ]
  },
  {
   "cell_type": "code",
   "execution_count": 32,
   "metadata": {},
   "outputs": [
    {
     "data": {
      "text/plain": [
       "((284315, 31), (492, 31))"
      ]
     },
     "execution_count": 32,
     "metadata": {},
     "output_type": "execute_result"
    }
   ],
   "source": [
    "non_fraud.shape , fraud.shape"
   ]
  },
  {
   "cell_type": "code",
   "execution_count": 33,
   "metadata": {},
   "outputs": [
    {
     "data": {
      "text/plain": [
       "(492, 31)"
      ]
     },
     "execution_count": 33,
     "metadata": {},
     "output_type": "execute_result"
    }
   ],
   "source": [
    "#Now we will select 492 records from non_fraud. records should be selected randomly.\n",
    "\n",
    "non_fraud = non_fraud.sample(fraud.shape[0])\n",
    "non_fraud.shape"
   ]
  },
  {
   "cell_type": "code",
   "execution_count": 34,
   "metadata": {},
   "outputs": [
    {
     "data": {
      "text/html": [
       "<div>\n",
       "<style scoped>\n",
       "    .dataframe tbody tr th:only-of-type {\n",
       "        vertical-align: middle;\n",
       "    }\n",
       "\n",
       "    .dataframe tbody tr th {\n",
       "        vertical-align: top;\n",
       "    }\n",
       "\n",
       "    .dataframe thead th {\n",
       "        text-align: right;\n",
       "    }\n",
       "</style>\n",
       "<table border=\"1\" class=\"dataframe\">\n",
       "  <thead>\n",
       "    <tr style=\"text-align: right;\">\n",
       "      <th></th>\n",
       "      <th>Time</th>\n",
       "      <th>V1</th>\n",
       "      <th>V2</th>\n",
       "      <th>V3</th>\n",
       "      <th>V4</th>\n",
       "      <th>V5</th>\n",
       "      <th>V6</th>\n",
       "      <th>V7</th>\n",
       "      <th>V8</th>\n",
       "      <th>V9</th>\n",
       "      <th>...</th>\n",
       "      <th>V21</th>\n",
       "      <th>V22</th>\n",
       "      <th>V23</th>\n",
       "      <th>V24</th>\n",
       "      <th>V25</th>\n",
       "      <th>V26</th>\n",
       "      <th>V27</th>\n",
       "      <th>V28</th>\n",
       "      <th>Amount</th>\n",
       "      <th>Class</th>\n",
       "    </tr>\n",
       "  </thead>\n",
       "  <tbody>\n",
       "    <tr>\n",
       "      <th>0</th>\n",
       "      <td>406.0</td>\n",
       "      <td>-2.312227</td>\n",
       "      <td>1.951992</td>\n",
       "      <td>-1.609851</td>\n",
       "      <td>3.997906</td>\n",
       "      <td>-0.522188</td>\n",
       "      <td>-1.426545</td>\n",
       "      <td>-2.537387</td>\n",
       "      <td>1.391657</td>\n",
       "      <td>-2.770089</td>\n",
       "      <td>...</td>\n",
       "      <td>0.517232</td>\n",
       "      <td>-0.035049</td>\n",
       "      <td>-0.465211</td>\n",
       "      <td>0.320198</td>\n",
       "      <td>0.044519</td>\n",
       "      <td>0.177840</td>\n",
       "      <td>0.261145</td>\n",
       "      <td>-0.143276</td>\n",
       "      <td>0.00</td>\n",
       "      <td>1</td>\n",
       "    </tr>\n",
       "    <tr>\n",
       "      <th>1</th>\n",
       "      <td>472.0</td>\n",
       "      <td>-3.043541</td>\n",
       "      <td>-3.157307</td>\n",
       "      <td>1.088463</td>\n",
       "      <td>2.288644</td>\n",
       "      <td>1.359805</td>\n",
       "      <td>-1.064823</td>\n",
       "      <td>0.325574</td>\n",
       "      <td>-0.067794</td>\n",
       "      <td>-0.270953</td>\n",
       "      <td>...</td>\n",
       "      <td>0.661696</td>\n",
       "      <td>0.435477</td>\n",
       "      <td>1.375966</td>\n",
       "      <td>-0.293803</td>\n",
       "      <td>0.279798</td>\n",
       "      <td>-0.145362</td>\n",
       "      <td>-0.252773</td>\n",
       "      <td>0.035764</td>\n",
       "      <td>529.00</td>\n",
       "      <td>1</td>\n",
       "    </tr>\n",
       "    <tr>\n",
       "      <th>2</th>\n",
       "      <td>4462.0</td>\n",
       "      <td>-2.303350</td>\n",
       "      <td>1.759247</td>\n",
       "      <td>-0.359745</td>\n",
       "      <td>2.330243</td>\n",
       "      <td>-0.821628</td>\n",
       "      <td>-0.075788</td>\n",
       "      <td>0.562320</td>\n",
       "      <td>-0.399147</td>\n",
       "      <td>-0.238253</td>\n",
       "      <td>...</td>\n",
       "      <td>-0.294166</td>\n",
       "      <td>-0.932391</td>\n",
       "      <td>0.172726</td>\n",
       "      <td>-0.087330</td>\n",
       "      <td>-0.156114</td>\n",
       "      <td>-0.542628</td>\n",
       "      <td>0.039566</td>\n",
       "      <td>-0.153029</td>\n",
       "      <td>239.93</td>\n",
       "      <td>1</td>\n",
       "    </tr>\n",
       "    <tr>\n",
       "      <th>3</th>\n",
       "      <td>6986.0</td>\n",
       "      <td>-4.397974</td>\n",
       "      <td>1.358367</td>\n",
       "      <td>-2.592844</td>\n",
       "      <td>2.679787</td>\n",
       "      <td>-1.128131</td>\n",
       "      <td>-1.706536</td>\n",
       "      <td>-3.496197</td>\n",
       "      <td>-0.248778</td>\n",
       "      <td>-0.247768</td>\n",
       "      <td>...</td>\n",
       "      <td>0.573574</td>\n",
       "      <td>0.176968</td>\n",
       "      <td>-0.436207</td>\n",
       "      <td>-0.053502</td>\n",
       "      <td>0.252405</td>\n",
       "      <td>-0.657488</td>\n",
       "      <td>-0.827136</td>\n",
       "      <td>0.849573</td>\n",
       "      <td>59.00</td>\n",
       "      <td>1</td>\n",
       "    </tr>\n",
       "    <tr>\n",
       "      <th>4</th>\n",
       "      <td>7519.0</td>\n",
       "      <td>1.234235</td>\n",
       "      <td>3.019740</td>\n",
       "      <td>-4.304597</td>\n",
       "      <td>4.732795</td>\n",
       "      <td>3.624201</td>\n",
       "      <td>-1.357746</td>\n",
       "      <td>1.713445</td>\n",
       "      <td>-0.496358</td>\n",
       "      <td>-1.282858</td>\n",
       "      <td>...</td>\n",
       "      <td>-0.379068</td>\n",
       "      <td>-0.704181</td>\n",
       "      <td>-0.656805</td>\n",
       "      <td>-1.632653</td>\n",
       "      <td>1.488901</td>\n",
       "      <td>0.566797</td>\n",
       "      <td>-0.010016</td>\n",
       "      <td>0.146793</td>\n",
       "      <td>1.00</td>\n",
       "      <td>1</td>\n",
       "    </tr>\n",
       "    <tr>\n",
       "      <th>...</th>\n",
       "      <td>...</td>\n",
       "      <td>...</td>\n",
       "      <td>...</td>\n",
       "      <td>...</td>\n",
       "      <td>...</td>\n",
       "      <td>...</td>\n",
       "      <td>...</td>\n",
       "      <td>...</td>\n",
       "      <td>...</td>\n",
       "      <td>...</td>\n",
       "      <td>...</td>\n",
       "      <td>...</td>\n",
       "      <td>...</td>\n",
       "      <td>...</td>\n",
       "      <td>...</td>\n",
       "      <td>...</td>\n",
       "      <td>...</td>\n",
       "      <td>...</td>\n",
       "      <td>...</td>\n",
       "      <td>...</td>\n",
       "      <td>...</td>\n",
       "    </tr>\n",
       "    <tr>\n",
       "      <th>979</th>\n",
       "      <td>134697.0</td>\n",
       "      <td>2.189292</td>\n",
       "      <td>-0.663296</td>\n",
       "      <td>-1.418668</td>\n",
       "      <td>-1.096806</td>\n",
       "      <td>-0.233084</td>\n",
       "      <td>-0.692229</td>\n",
       "      <td>-0.389778</td>\n",
       "      <td>-0.254238</td>\n",
       "      <td>-0.965586</td>\n",
       "      <td>...</td>\n",
       "      <td>0.493695</td>\n",
       "      <td>1.421238</td>\n",
       "      <td>0.000954</td>\n",
       "      <td>0.853217</td>\n",
       "      <td>0.223169</td>\n",
       "      <td>0.009137</td>\n",
       "      <td>-0.041107</td>\n",
       "      <td>-0.065917</td>\n",
       "      <td>15.00</td>\n",
       "      <td>0</td>\n",
       "    </tr>\n",
       "    <tr>\n",
       "      <th>980</th>\n",
       "      <td>38585.0</td>\n",
       "      <td>-0.798931</td>\n",
       "      <td>0.957706</td>\n",
       "      <td>0.792724</td>\n",
       "      <td>0.759220</td>\n",
       "      <td>-0.009245</td>\n",
       "      <td>0.578911</td>\n",
       "      <td>0.472656</td>\n",
       "      <td>0.666481</td>\n",
       "      <td>-1.101889</td>\n",
       "      <td>...</td>\n",
       "      <td>0.353426</td>\n",
       "      <td>0.822373</td>\n",
       "      <td>0.130346</td>\n",
       "      <td>-0.285643</td>\n",
       "      <td>-0.384672</td>\n",
       "      <td>-0.292783</td>\n",
       "      <td>0.048151</td>\n",
       "      <td>0.090561</td>\n",
       "      <td>90.00</td>\n",
       "      <td>0</td>\n",
       "    </tr>\n",
       "    <tr>\n",
       "      <th>981</th>\n",
       "      <td>134659.0</td>\n",
       "      <td>2.073987</td>\n",
       "      <td>0.139006</td>\n",
       "      <td>-1.695027</td>\n",
       "      <td>0.427727</td>\n",
       "      <td>0.372098</td>\n",
       "      <td>-0.907665</td>\n",
       "      <td>0.163872</td>\n",
       "      <td>-0.220570</td>\n",
       "      <td>0.539567</td>\n",
       "      <td>...</td>\n",
       "      <td>-0.366572</td>\n",
       "      <td>-0.964057</td>\n",
       "      <td>0.348296</td>\n",
       "      <td>0.559415</td>\n",
       "      <td>-0.272834</td>\n",
       "      <td>0.170773</td>\n",
       "      <td>-0.064568</td>\n",
       "      <td>-0.030933</td>\n",
       "      <td>0.99</td>\n",
       "      <td>0</td>\n",
       "    </tr>\n",
       "    <tr>\n",
       "      <th>982</th>\n",
       "      <td>165620.0</td>\n",
       "      <td>2.008470</td>\n",
       "      <td>-0.302754</td>\n",
       "      <td>-0.360221</td>\n",
       "      <td>0.314854</td>\n",
       "      <td>-0.704613</td>\n",
       "      <td>-0.776874</td>\n",
       "      <td>-0.493186</td>\n",
       "      <td>-0.055980</td>\n",
       "      <td>1.442223</td>\n",
       "      <td>...</td>\n",
       "      <td>-0.136484</td>\n",
       "      <td>-0.285410</td>\n",
       "      <td>0.344034</td>\n",
       "      <td>-0.189031</td>\n",
       "      <td>-0.371380</td>\n",
       "      <td>-0.914595</td>\n",
       "      <td>0.054620</td>\n",
       "      <td>-0.029930</td>\n",
       "      <td>1.00</td>\n",
       "      <td>0</td>\n",
       "    </tr>\n",
       "    <tr>\n",
       "      <th>983</th>\n",
       "      <td>36448.0</td>\n",
       "      <td>1.333519</td>\n",
       "      <td>-0.671664</td>\n",
       "      <td>0.525934</td>\n",
       "      <td>-0.895460</td>\n",
       "      <td>-0.911411</td>\n",
       "      <td>-0.004688</td>\n",
       "      <td>-0.930475</td>\n",
       "      <td>0.210384</td>\n",
       "      <td>-0.760021</td>\n",
       "      <td>...</td>\n",
       "      <td>0.036061</td>\n",
       "      <td>-0.060654</td>\n",
       "      <td>0.089261</td>\n",
       "      <td>-0.346359</td>\n",
       "      <td>0.147274</td>\n",
       "      <td>-0.375073</td>\n",
       "      <td>0.022570</td>\n",
       "      <td>0.005279</td>\n",
       "      <td>10.00</td>\n",
       "      <td>0</td>\n",
       "    </tr>\n",
       "  </tbody>\n",
       "</table>\n",
       "<p>984 rows × 31 columns</p>\n",
       "</div>"
      ],
      "text/plain": [
       "         Time        V1        V2        V3        V4        V5        V6  \\\n",
       "0       406.0 -2.312227  1.951992 -1.609851  3.997906 -0.522188 -1.426545   \n",
       "1       472.0 -3.043541 -3.157307  1.088463  2.288644  1.359805 -1.064823   \n",
       "2      4462.0 -2.303350  1.759247 -0.359745  2.330243 -0.821628 -0.075788   \n",
       "3      6986.0 -4.397974  1.358367 -2.592844  2.679787 -1.128131 -1.706536   \n",
       "4      7519.0  1.234235  3.019740 -4.304597  4.732795  3.624201 -1.357746   \n",
       "..        ...       ...       ...       ...       ...       ...       ...   \n",
       "979  134697.0  2.189292 -0.663296 -1.418668 -1.096806 -0.233084 -0.692229   \n",
       "980   38585.0 -0.798931  0.957706  0.792724  0.759220 -0.009245  0.578911   \n",
       "981  134659.0  2.073987  0.139006 -1.695027  0.427727  0.372098 -0.907665   \n",
       "982  165620.0  2.008470 -0.302754 -0.360221  0.314854 -0.704613 -0.776874   \n",
       "983   36448.0  1.333519 -0.671664  0.525934 -0.895460 -0.911411 -0.004688   \n",
       "\n",
       "           V7        V8        V9  ...       V21       V22       V23  \\\n",
       "0   -2.537387  1.391657 -2.770089  ...  0.517232 -0.035049 -0.465211   \n",
       "1    0.325574 -0.067794 -0.270953  ...  0.661696  0.435477  1.375966   \n",
       "2    0.562320 -0.399147 -0.238253  ... -0.294166 -0.932391  0.172726   \n",
       "3   -3.496197 -0.248778 -0.247768  ...  0.573574  0.176968 -0.436207   \n",
       "4    1.713445 -0.496358 -1.282858  ... -0.379068 -0.704181 -0.656805   \n",
       "..        ...       ...       ...  ...       ...       ...       ...   \n",
       "979 -0.389778 -0.254238 -0.965586  ...  0.493695  1.421238  0.000954   \n",
       "980  0.472656  0.666481 -1.101889  ...  0.353426  0.822373  0.130346   \n",
       "981  0.163872 -0.220570  0.539567  ... -0.366572 -0.964057  0.348296   \n",
       "982 -0.493186 -0.055980  1.442223  ... -0.136484 -0.285410  0.344034   \n",
       "983 -0.930475  0.210384 -0.760021  ...  0.036061 -0.060654  0.089261   \n",
       "\n",
       "          V24       V25       V26       V27       V28  Amount  Class  \n",
       "0    0.320198  0.044519  0.177840  0.261145 -0.143276    0.00      1  \n",
       "1   -0.293803  0.279798 -0.145362 -0.252773  0.035764  529.00      1  \n",
       "2   -0.087330 -0.156114 -0.542628  0.039566 -0.153029  239.93      1  \n",
       "3   -0.053502  0.252405 -0.657488 -0.827136  0.849573   59.00      1  \n",
       "4   -1.632653  1.488901  0.566797 -0.010016  0.146793    1.00      1  \n",
       "..        ...       ...       ...       ...       ...     ...    ...  \n",
       "979  0.853217  0.223169  0.009137 -0.041107 -0.065917   15.00      0  \n",
       "980 -0.285643 -0.384672 -0.292783  0.048151  0.090561   90.00      0  \n",
       "981  0.559415 -0.272834  0.170773 -0.064568 -0.030933    0.99      0  \n",
       "982 -0.189031 -0.371380 -0.914595  0.054620 -0.029930    1.00      0  \n",
       "983 -0.346359  0.147274 -0.375073  0.022570  0.005279   10.00      0  \n",
       "\n",
       "[984 rows x 31 columns]"
      ]
     },
     "execution_count": 34,
     "metadata": {},
     "output_type": "execute_result"
    }
   ],
   "source": [
    "#Lets now merge these two dataframes together.\n",
    "\n",
    "data = fraud.append(non_fraud, ignore_index = True)\n",
    "data"
   ]
  },
  {
   "cell_type": "code",
   "execution_count": 35,
   "metadata": {},
   "outputs": [
    {
     "data": {
      "text/plain": [
       "1    492\n",
       "0    492\n",
       "Name: Class, dtype: int64"
      ]
     },
     "execution_count": 35,
     "metadata": {},
     "output_type": "execute_result"
    }
   ],
   "source": [
    "data['Class'].value_counts()"
   ]
  },
  {
   "cell_type": "code",
   "execution_count": 39,
   "metadata": {},
   "outputs": [
    {
     "data": {
      "text/plain": [
       "((984, 30), (984,))"
      ]
     },
     "execution_count": 39,
     "metadata": {},
     "output_type": "execute_result"
    }
   ],
   "source": [
    "X = data.drop('Class', axis = 1)\n",
    "y = data['Class']\n",
    "X.shape, y.shape"
   ]
  },
  {
   "cell_type": "code",
   "execution_count": 42,
   "metadata": {},
   "outputs": [],
   "source": [
    "X_train, X_test, y_train, y_test = train_test_split(X,y, test_size = 0.2, random_state = 0, stratify = y)"
   ]
  },
  {
   "cell_type": "code",
   "execution_count": 43,
   "metadata": {},
   "outputs": [
    {
     "data": {
      "text/plain": [
       "((787, 30), (197, 30))"
      ]
     },
     "execution_count": 43,
     "metadata": {},
     "output_type": "execute_result"
    }
   ],
   "source": [
    "X_train.shape, X_test.shape"
   ]
  },
  {
   "cell_type": "code",
   "execution_count": 46,
   "metadata": {},
   "outputs": [],
   "source": [
    "scaler = StandardScaler()\n",
    "X_train = scaler.fit_transform(X_train)\n",
    "X_test = scaler.transform(X_test)"
   ]
  },
  {
   "cell_type": "code",
   "execution_count": 47,
   "metadata": {},
   "outputs": [],
   "source": [
    "y_train = y_train.to_numpy()\n",
    "y_test = y_test.to_numpy()"
   ]
  },
  {
   "cell_type": "code",
   "execution_count": 48,
   "metadata": {},
   "outputs": [
    {
     "data": {
      "text/plain": [
       "(787, 30)"
      ]
     },
     "execution_count": 48,
     "metadata": {},
     "output_type": "execute_result"
    }
   ],
   "source": [
    "X_train.shape"
   ]
  },
  {
   "cell_type": "code",
   "execution_count": 51,
   "metadata": {},
   "outputs": [],
   "source": [
    "X_train = X_train.reshape(X_train.shape[0], X_train.shape[1],1)\n",
    "X_test = X_test.reshape(X_test.shape[0], X_test.shape[1],1)"
   ]
  },
  {
   "cell_type": "code",
   "execution_count": 52,
   "metadata": {},
   "outputs": [
    {
     "data": {
      "text/plain": [
       "((787, 30, 1), (197, 30, 1))"
      ]
     },
     "execution_count": 52,
     "metadata": {},
     "output_type": "execute_result"
    }
   ],
   "source": [
    "X_train.shape, X_test.shape"
   ]
  },
  {
   "cell_type": "markdown",
   "metadata": {},
   "source": [
    "## Build CNN"
   ]
  },
  {
   "cell_type": "code",
   "execution_count": 53,
   "metadata": {},
   "outputs": [],
   "source": [
    "epochs = 20\n",
    "model = Sequential()\n",
    "model.add(Conv1D(32,2,activation = 'relu', input_shape = X_train[0].shape))\n",
    "model.add(BatchNormalization())\n",
    "model.add(Dropout(0.2))\n",
    "\n",
    "model.add(Conv1D(32,2,activation = 'relu'))\n",
    "model.add(BatchNormalization())\n",
    "model.add(Dropout(0.5))\n",
    "\n",
    "model.add(Flatten())\n",
    "model.add(Dense(64, activation = 'relu'))\n",
    "model.add(Dropout(0.5))\n",
    "\n",
    "model.add(Dense(1, activation = 'sigmoid'))\n"
   ]
  },
  {
   "cell_type": "code",
   "execution_count": 55,
   "metadata": {},
   "outputs": [
    {
     "name": "stdout",
     "output_type": "stream",
     "text": [
      "Model: \"sequential\"\n",
      "_________________________________________________________________\n",
      "Layer (type)                 Output Shape              Param #   \n",
      "=================================================================\n",
      "conv1d (Conv1D)              (None, 29, 32)            96        \n",
      "_________________________________________________________________\n",
      "batch_normalization (BatchNo (None, 29, 32)            128       \n",
      "_________________________________________________________________\n",
      "dropout (Dropout)            (None, 29, 32)            0         \n",
      "_________________________________________________________________\n",
      "conv1d_1 (Conv1D)            (None, 28, 32)            2080      \n",
      "_________________________________________________________________\n",
      "batch_normalization_1 (Batch (None, 28, 32)            128       \n",
      "_________________________________________________________________\n",
      "dropout_1 (Dropout)          (None, 28, 32)            0         \n",
      "_________________________________________________________________\n",
      "flatten (Flatten)            (None, 896)               0         \n",
      "_________________________________________________________________\n",
      "dense (Dense)                (None, 64)                57408     \n",
      "_________________________________________________________________\n",
      "dropout_2 (Dropout)          (None, 64)                0         \n",
      "_________________________________________________________________\n",
      "dense_1 (Dense)              (None, 1)                 65        \n",
      "=================================================================\n",
      "Total params: 59,905\n",
      "Trainable params: 59,777\n",
      "Non-trainable params: 128\n",
      "_________________________________________________________________\n"
     ]
    }
   ],
   "source": [
    "model.summary()"
   ]
  },
  {
   "cell_type": "code",
   "execution_count": 58,
   "metadata": {},
   "outputs": [],
   "source": [
    "model.compile(optimizer = Adam(lr = 0.0001), loss = 'binary_crossentropy', metrics = ['accuracy'])"
   ]
  },
  {
   "cell_type": "code",
   "execution_count": 59,
   "metadata": {},
   "outputs": [
    {
     "name": "stdout",
     "output_type": "stream",
     "text": [
      "Train on 787 samples, validate on 197 samples\n",
      "Epoch 1/20\n",
      "WARNING:tensorflow:From C:\\ProgramData\\Anaconda3\\lib\\site-packages\\tensorflow_core\\python\\ops\\nn_impl.py:183: where (from tensorflow.python.ops.array_ops) is deprecated and will be removed in a future version.\n",
      "Instructions for updating:\n",
      "Use tf.where in 2.0, which has the same broadcast rule as np.where\n",
      "WARNING:tensorflow:Entity <function Function._initialize_uninitialized_variables.<locals>.initialize_variables at 0x000002280D7FFD38> could not be transformed and will be executed as-is. Please report this to the AutoGraph team. When filing the bug, set the verbosity to 10 (on Linux, `export AUTOGRAPH_VERBOSITY=10`) and attach the full output. Cause: module 'gast' has no attribute 'Index'\n",
      "WARNING: Entity <function Function._initialize_uninitialized_variables.<locals>.initialize_variables at 0x000002280D7FFD38> could not be transformed and will be executed as-is. Please report this to the AutoGraph team. When filing the bug, set the verbosity to 10 (on Linux, `export AUTOGRAPH_VERBOSITY=10`) and attach the full output. Cause: module 'gast' has no attribute 'Index'\n",
      "787/787 [==============================] - 1s 2ms/sample - loss: 0.6288 - accuracy: 0.6811 - val_loss: 0.6161 - val_accuracy: 0.8325\n",
      "Epoch 2/20\n",
      "787/787 [==============================] - 0s 200us/sample - loss: 0.4615 - accuracy: 0.7929 - val_loss: 0.5604 - val_accuracy: 0.8426\n",
      "Epoch 3/20\n",
      "787/787 [==============================] - 0s 190us/sample - loss: 0.4313 - accuracy: 0.8259 - val_loss: 0.5170 - val_accuracy: 0.8782\n",
      "Epoch 4/20\n",
      "787/787 [==============================] - 0s 173us/sample - loss: 0.3863 - accuracy: 0.8488 - val_loss: 0.4772 - val_accuracy: 0.8985\n",
      "Epoch 5/20\n",
      "787/787 [==============================] - 0s 175us/sample - loss: 0.3338 - accuracy: 0.8717 - val_loss: 0.4408 - val_accuracy: 0.9188\n",
      "Epoch 6/20\n",
      "787/787 [==============================] - 0s 181us/sample - loss: 0.3273 - accuracy: 0.8755 - val_loss: 0.4053 - val_accuracy: 0.9188\n",
      "Epoch 7/20\n",
      "787/787 [==============================] - 0s 171us/sample - loss: 0.3199 - accuracy: 0.8806 - val_loss: 0.3736 - val_accuracy: 0.9239\n",
      "Epoch 8/20\n",
      "787/787 [==============================] - 0s 160us/sample - loss: 0.3252 - accuracy: 0.8717 - val_loss: 0.3469 - val_accuracy: 0.9289\n",
      "Epoch 9/20\n",
      "787/787 [==============================] - 0s 157us/sample - loss: 0.2790 - accuracy: 0.8996 - val_loss: 0.3193 - val_accuracy: 0.9239\n",
      "Epoch 10/20\n",
      "787/787 [==============================] - 0s 174us/sample - loss: 0.2945 - accuracy: 0.8933 - val_loss: 0.2961 - val_accuracy: 0.9188\n",
      "Epoch 11/20\n",
      "787/787 [==============================] - 0s 171us/sample - loss: 0.2715 - accuracy: 0.8971 - val_loss: 0.2766 - val_accuracy: 0.9188\n",
      "Epoch 12/20\n",
      "787/787 [==============================] - 0s 168us/sample - loss: 0.2724 - accuracy: 0.9009 - val_loss: 0.2552 - val_accuracy: 0.9188\n",
      "Epoch 13/20\n",
      "787/787 [==============================] - 0s 164us/sample - loss: 0.2658 - accuracy: 0.9123 - val_loss: 0.2415 - val_accuracy: 0.9188\n",
      "Epoch 14/20\n",
      "787/787 [==============================] - 0s 165us/sample - loss: 0.2638 - accuracy: 0.9034 - val_loss: 0.2304 - val_accuracy: 0.9188\n",
      "Epoch 15/20\n",
      "787/787 [==============================] - 0s 167us/sample - loss: 0.2531 - accuracy: 0.9136 - val_loss: 0.2218 - val_accuracy: 0.9188\n",
      "Epoch 16/20\n",
      "787/787 [==============================] - 0s 164us/sample - loss: 0.2107 - accuracy: 0.9250 - val_loss: 0.2127 - val_accuracy: 0.9188\n",
      "Epoch 17/20\n",
      "787/787 [==============================] - 0s 172us/sample - loss: 0.2230 - accuracy: 0.9174 - val_loss: 0.2071 - val_accuracy: 0.9188\n",
      "Epoch 18/20\n",
      "787/787 [==============================] - 0s 182us/sample - loss: 0.2501 - accuracy: 0.9072 - val_loss: 0.2051 - val_accuracy: 0.9188\n",
      "Epoch 19/20\n",
      "787/787 [==============================] - 0s 180us/sample - loss: 0.2334 - accuracy: 0.9225 - val_loss: 0.2016 - val_accuracy: 0.9188\n",
      "Epoch 20/20\n",
      "787/787 [==============================] - 0s 165us/sample - loss: 0.2276 - accuracy: 0.9199 - val_loss: 0.1980 - val_accuracy: 0.9188\n"
     ]
    }
   ],
   "source": [
    "## With model ready, lets train our model\n",
    "\n",
    "history = model.fit(X_train,y_train, epochs = epochs, validation_data = (X_test,y_test), verbose = 1)"
   ]
  },
  {
   "cell_type": "code",
   "execution_count": 60,
   "metadata": {},
   "outputs": [],
   "source": [
    "# now we have the accuracy of both our training set and test set"
   ]
  },
  {
   "cell_type": "markdown",
   "metadata": {},
   "source": [
    "## Learning Curve (described in video 4)"
   ]
  },
  {
   "cell_type": "code",
   "execution_count": 61,
   "metadata": {},
   "outputs": [],
   "source": [
    "def plot_learningCurve(history, epoch):\n",
    "  #Plot training & validation accuracy values\n",
    "  epoch_range = range(1,epoch + 1)\n",
    "  plt.plot(epoch_range, history.history['accuracy'])\n",
    "  plt.plot(epoch_range, history.history['val_accuracy']) # validation set accuracy\n",
    "  plt.title('Model accuracy')\n",
    "  plt.ylabel('Accuracy')\n",
    "  plt.xlabel('Epoch')\n",
    "  plt.legend(['Train', 'Val'], loc = 'upper left')\n",
    "  plt.show()\n",
    "\n",
    "  # Plot training and validation loss values\n",
    "  plt.plot(epoch_range, history.history['loss'])\n",
    "  plt.plot(epoch_range, history.history['val_loss'])\n",
    "  plt.title('Model Loss')\n",
    "  plt.ylabel('Loss')\n",
    "  plt.xlabel('Epoch')\n",
    "  plt.legend(['Train', 'Val'], loc = 'upper left')\n",
    "  plt.show()"
   ]
  },
  {
   "cell_type": "code",
   "execution_count": 63,
   "metadata": {},
   "outputs": [
    {
     "data": {
      "image/png": "[encoded data removed]",
      "text/plain": [
       "<Figure size 432x288 with 1 Axes>"
      ]
     },
     "metadata": {
      "needs_background": "light"
     },
     "output_type": "display_data"
    },
    {
     "data": {
      "image/png": "[encoded data removed]",
      "text/plain": [
       "<Figure size 432x288 with 1 Axes>"
      ]
     },
     "metadata": {
      "needs_background": "light"
     },
     "output_type": "display_data"
    }
   ],
   "source": [
    "plot_learningCurve(history, epochs)"
   ]
  },
  {
   "cell_type": "markdown",
   "metadata": {},
   "source": [
    "## This way we can detect the fraudulent credit card transaction"
   ]
  },
  {
   "cell_type": "markdown",
   "metadata": {},
   "source": []
  },
  {
   "cell_type": "markdown",
   "metadata": {},
   "source": [
    "### Adding Maxpool"
   ]
  },
  {
   "cell_type": "code",
   "execution_count": 66,
   "metadata": {},
   "outputs": [
    {
     "name": "stdout",
     "output_type": "stream",
     "text": [
      "Train on 787 samples, validate on 197 samples\n",
      "Epoch 1/50\n",
      "WARNING:tensorflow:Entity <function Function._initialize_uninitialized_variables.<locals>.initialize_variables at 0x0000022815F25AF8> could not be transformed and will be executed as-is. Please report this to the AutoGraph team. When filing the bug, set the verbosity to 10 (on Linux, `export AUTOGRAPH_VERBOSITY=10`) and attach the full output. Cause: module 'gast' has no attribute 'Index'\n",
      "WARNING: Entity <function Function._initialize_uninitialized_variables.<locals>.initialize_variables at 0x0000022815F25AF8> could not be transformed and will be executed as-is. Please report this to the AutoGraph team. When filing the bug, set the verbosity to 10 (on Linux, `export AUTOGRAPH_VERBOSITY=10`) and attach the full output. Cause: module 'gast' has no attribute 'Index'\n",
      "787/787 [==============================] - 1s 1ms/sample - loss: 1.3424 - accuracy: 0.5146 - val_loss: 0.6959 - val_accuracy: 0.5685\n",
      "Epoch 2/50\n",
      "787/787 [==============================] - 0s 191us/sample - loss: 1.0885 - accuracy: 0.5781 - val_loss: 0.6640 - val_accuracy: 0.6497\n",
      "Epoch 3/50\n",
      "787/787 [==============================] - 0s 191us/sample - loss: 1.0345 - accuracy: 0.5756 - val_loss: 0.6394 - val_accuracy: 0.6751\n",
      "Epoch 4/50\n",
      "787/787 [==============================] - 0s 189us/sample - loss: 0.8564 - accuracy: 0.6277 - val_loss: 0.6202 - val_accuracy: 0.6599\n",
      "Epoch 5/50\n",
      "787/787 [==============================] - 0s 182us/sample - loss: 0.8156 - accuracy: 0.6429 - val_loss: 0.6032 - val_accuracy: 0.6650\n",
      "Epoch 6/50\n",
      "787/787 [==============================] - 0s 174us/sample - loss: 0.7562 - accuracy: 0.6912 - val_loss: 0.5844 - val_accuracy: 0.6904\n",
      "Epoch 7/50\n",
      "787/787 [==============================] - 0s 170us/sample - loss: 0.6504 - accuracy: 0.7065 - val_loss: 0.5637 - val_accuracy: 0.7107\n",
      "Epoch 8/50\n",
      "787/787 [==============================] - 0s 181us/sample - loss: 0.6538 - accuracy: 0.7103 - val_loss: 0.5422 - val_accuracy: 0.7310\n",
      "Epoch 9/50\n",
      "787/787 [==============================] - 0s 148us/sample - loss: 0.6560 - accuracy: 0.7382 - val_loss: 0.5205 - val_accuracy: 0.7513\n",
      "Epoch 10/50\n",
      "787/787 [==============================] - ETA: 0s - loss: 0.5264 - accuracy: 0.80 - 0s 156us/sample - loss: 0.5900 - accuracy: 0.7598 - val_loss: 0.4985 - val_accuracy: 0.7665\n",
      "Epoch 11/50\n",
      "787/787 [==============================] - 0s 158us/sample - loss: 0.6101 - accuracy: 0.7294 - val_loss: 0.4779 - val_accuracy: 0.7766\n",
      "Epoch 12/50\n",
      "787/787 [==============================] - 0s 160us/sample - loss: 0.6512 - accuracy: 0.7332 - val_loss: 0.4568 - val_accuracy: 0.7919\n",
      "Epoch 13/50\n",
      "787/787 [==============================] - 0s 162us/sample - loss: 0.5444 - accuracy: 0.7726 - val_loss: 0.4368 - val_accuracy: 0.8020\n",
      "Epoch 14/50\n",
      "787/787 [==============================] - 0s 162us/sample - loss: 0.5113 - accuracy: 0.7713 - val_loss: 0.4194 - val_accuracy: 0.8122\n",
      "Epoch 15/50\n",
      "787/787 [==============================] - 0s 171us/sample - loss: 0.4625 - accuracy: 0.7967 - val_loss: 0.4043 - val_accuracy: 0.8071\n",
      "Epoch 16/50\n",
      "787/787 [==============================] - 0s 177us/sample - loss: 0.5149 - accuracy: 0.7891 - val_loss: 0.3908 - val_accuracy: 0.8173\n",
      "Epoch 17/50\n",
      "787/787 [==============================] - 0s 168us/sample - loss: 0.4904 - accuracy: 0.7802 - val_loss: 0.3783 - val_accuracy: 0.8274\n",
      "Epoch 18/50\n",
      "787/787 [==============================] - 0s 175us/sample - loss: 0.4776 - accuracy: 0.8132 - val_loss: 0.3678 - val_accuracy: 0.8477\n",
      "Epoch 19/50\n",
      "787/787 [==============================] - 0s 169us/sample - loss: 0.4872 - accuracy: 0.8030 - val_loss: 0.3593 - val_accuracy: 0.8528\n",
      "Epoch 20/50\n",
      "787/787 [==============================] - 0s 170us/sample - loss: 0.4816 - accuracy: 0.8043 - val_loss: 0.3538 - val_accuracy: 0.8528\n",
      "Epoch 21/50\n",
      "787/787 [==============================] - 0s 171us/sample - loss: 0.4618 - accuracy: 0.8043 - val_loss: 0.3448 - val_accuracy: 0.8579\n",
      "Epoch 22/50\n",
      "787/787 [==============================] - 0s 171us/sample - loss: 0.4954 - accuracy: 0.8158 - val_loss: 0.3378 - val_accuracy: 0.8680\n",
      "Epoch 23/50\n",
      "787/787 [==============================] - 0s 171us/sample - loss: 0.4633 - accuracy: 0.8170 - val_loss: 0.3299 - val_accuracy: 0.8680\n",
      "Epoch 24/50\n",
      "787/787 [==============================] - 0s 171us/sample - loss: 0.4431 - accuracy: 0.8158 - val_loss: 0.3253 - val_accuracy: 0.8680\n",
      "Epoch 25/50\n",
      "787/787 [==============================] - 0s 169us/sample - loss: 0.4070 - accuracy: 0.8450 - val_loss: 0.3208 - val_accuracy: 0.8680\n",
      "Epoch 26/50\n",
      "787/787 [==============================] - 0s 169us/sample - loss: 0.4273 - accuracy: 0.8323 - val_loss: 0.3183 - val_accuracy: 0.8731\n",
      "Epoch 27/50\n",
      "787/787 [==============================] - 0s 161us/sample - loss: 0.3856 - accuracy: 0.8513 - val_loss: 0.3157 - val_accuracy: 0.8832\n",
      "Epoch 28/50\n",
      "787/787 [==============================] - 0s 167us/sample - loss: 0.3844 - accuracy: 0.8437 - val_loss: 0.3122 - val_accuracy: 0.8832\n",
      "Epoch 29/50\n",
      "787/787 [==============================] - 0s 173us/sample - loss: 0.3853 - accuracy: 0.8513 - val_loss: 0.3109 - val_accuracy: 0.8832\n",
      "Epoch 30/50\n",
      "787/787 [==============================] - 0s 167us/sample - loss: 0.3469 - accuracy: 0.8615 - val_loss: 0.3086 - val_accuracy: 0.8832\n",
      "Epoch 31/50\n",
      "787/787 [==============================] - 0s 173us/sample - loss: 0.3825 - accuracy: 0.8386 - val_loss: 0.3059 - val_accuracy: 0.8832\n",
      "Epoch 32/50\n",
      "787/787 [==============================] - 0s 165us/sample - loss: 0.3660 - accuracy: 0.8640 - val_loss: 0.3039 - val_accuracy: 0.8832\n",
      "Epoch 33/50\n",
      "787/787 [==============================] - 0s 170us/sample - loss: 0.4066 - accuracy: 0.8386 - val_loss: 0.3032 - val_accuracy: 0.8832\n",
      "Epoch 34/50\n",
      "787/787 [==============================] - 0s 167us/sample - loss: 0.3531 - accuracy: 0.8793 - val_loss: 0.3018 - val_accuracy: 0.8934\n",
      "Epoch 35/50\n",
      "787/787 [==============================] - 0s 160us/sample - loss: 0.3685 - accuracy: 0.8564 - val_loss: 0.2993 - val_accuracy: 0.8934\n",
      "Epoch 36/50\n",
      "787/787 [==============================] - 0s 175us/sample - loss: 0.3481 - accuracy: 0.8704 - val_loss: 0.2960 - val_accuracy: 0.8934\n",
      "Epoch 37/50\n",
      "787/787 [==============================] - 0s 160us/sample - loss: 0.3226 - accuracy: 0.8793 - val_loss: 0.2952 - val_accuracy: 0.8934\n",
      "Epoch 38/50\n",
      "787/787 [==============================] - 0s 175us/sample - loss: 0.3405 - accuracy: 0.8831 - val_loss: 0.2947 - val_accuracy: 0.8934\n",
      "Epoch 39/50\n",
      "787/787 [==============================] - 0s 157us/sample - loss: 0.3183 - accuracy: 0.8856 - val_loss: 0.2932 - val_accuracy: 0.8934\n",
      "Epoch 40/50\n",
      "787/787 [==============================] - 0s 177us/sample - loss: 0.3396 - accuracy: 0.8615 - val_loss: 0.2915 - val_accuracy: 0.8985\n",
      "Epoch 41/50\n",
      "787/787 [==============================] - 0s 180us/sample - loss: 0.3352 - accuracy: 0.8717 - val_loss: 0.2889 - val_accuracy: 0.8985\n",
      "Epoch 42/50\n",
      "787/787 [==============================] - 0s 166us/sample - loss: 0.3371 - accuracy: 0.8806 - val_loss: 0.2867 - val_accuracy: 0.8934\n",
      "Epoch 43/50\n",
      "787/787 [==============================] - 0s 171us/sample - loss: 0.3442 - accuracy: 0.8767 - val_loss: 0.2835 - val_accuracy: 0.8934\n",
      "Epoch 44/50\n",
      "787/787 [==============================] - 0s 158us/sample - loss: 0.3303 - accuracy: 0.8831 - val_loss: 0.2820 - val_accuracy: 0.8934\n",
      "Epoch 45/50\n",
      "787/787 [==============================] - 0s 171us/sample - loss: 0.3230 - accuracy: 0.8793 - val_loss: 0.2816 - val_accuracy: 0.8985\n",
      "Epoch 46/50\n",
      "787/787 [==============================] - 0s 181us/sample - loss: 0.3341 - accuracy: 0.8767 - val_loss: 0.2800 - val_accuracy: 0.8985\n",
      "Epoch 47/50\n",
      "787/787 [==============================] - 0s 160us/sample - loss: 0.3382 - accuracy: 0.8869 - val_loss: 0.2793 - val_accuracy: 0.8883\n",
      "Epoch 48/50\n",
      "787/787 [==============================] - 0s 181us/sample - loss: 0.3478 - accuracy: 0.8869 - val_loss: 0.2783 - val_accuracy: 0.8883\n",
      "Epoch 49/50\n",
      "787/787 [==============================] - 0s 174us/sample - loss: 0.2902 - accuracy: 0.8983 - val_loss: 0.2766 - val_accuracy: 0.8883\n",
      "Epoch 50/50\n",
      "787/787 [==============================] - 0s 151us/sample - loss: 0.3113 - accuracy: 0.8831 - val_loss: 0.2756 - val_accuracy: 0.8883\n"
     ]
    },
    {
     "data": {
      "image/png": "[encoded data removed]",
      "text/plain": [
       "<Figure size 432x288 with 1 Axes>"
      ]
     },
     "metadata": {
      "needs_background": "light"
     },
     "output_type": "display_data"
    },
    {
     "data": {
      "image/png": "[encoded data removed]",
      "text/plain": [
       "<Figure size 432x288 with 1 Axes>"
      ]
     },
     "metadata": {
      "needs_background": "light"
     },
     "output_type": "display_data"
    }
   ],
   "source": [
    "epochs = 50\n",
    "model = Sequential()\n",
    "model.add(Conv1D(32,2,activation = 'relu', input_shape = X_train[0].shape))\n",
    "model.add(BatchNormalization())\n",
    "model.add(MaxPool1D(2))\n",
    "model.add(Dropout(0.2))\n",
    "\n",
    "model.add(Conv1D(32,2,activation = 'relu'))\n",
    "model.add(BatchNormalization())\n",
    "model.add(MaxPool1D(2))\n",
    "model.add(Dropout(0.5))\n",
    "\n",
    "model.add(Flatten())\n",
    "model.add(Dense(64, activation = 'relu'))\n",
    "model.add(Dropout(0.5))\n",
    "\n",
    "model.add(Dense(1, activation = 'sigmoid'))\n",
    "\n",
    "model.compile(optimizer = Adam(lr = 0.0001), loss = 'binary_crossentropy', metrics = ['accuracy'])\n",
    "history = model.fit(X_train,y_train, epochs = epochs, validation_data = (X_test,y_test), verbose = 1)\n",
    "plot_learningCurve(history, epochs)"
   ]
  },
  {
   "cell_type": "code",
   "execution_count": null,
   "metadata": {},
   "outputs": [],
   "source": [
    "# without pooling layer, the accuracy was a bit higher, it seems."
   ]
  }
 ],
 "metadata": {
  "kernelspec": {
   "display_name": "Python 3",
   "language": "python",
   "name": "python3"
  },
  "language_info": {
   "codemirror_mode": {
    "name": "ipython",
    "version": 3
   },
   "file_extension": ".py",
   "mimetype": "text/x-python",
   "name": "python",
   "nbconvert_exporter": "python",
   "pygments_lexer": "ipython3",
   "version": "3.7.6"
  }
 },
 "nbformat": 4,
 "nbformat_minor": 4
}
